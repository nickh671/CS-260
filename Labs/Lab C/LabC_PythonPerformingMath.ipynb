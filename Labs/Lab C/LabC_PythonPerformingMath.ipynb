{
 "cells": [
  {
   "cell_type": "markdown",
   "metadata": {},
   "source": [
    "Your Name: "
   ]
  },
  {
   "cell_type": "markdown",
   "metadata": {},
   "source": [
    "# Lab 00 - C: Arithmetic and Basic Math in Python\n"
   ]
  },
  {
   "cell_type": "markdown",
   "metadata": {},
   "source": [
    "Parts of this lab were adapted from an IBM course (\"Python for Data Science\") on the Cognitive Class website. Thank you to the original author <a href=\"https://www.linkedin.com/in/joseph-s-50398b136/\" target=\"_blank\">Joseph Santarcangelo</a> who is a Data Scientist at IBM for creating the initial lab. \n",
    "\n"
   ]
  },
  {
   "cell_type": "markdown",
   "metadata": {},
   "source": [
    "## Getting Started\n",
    "\n",
    "The goal of this lab is to get you familiar with the performing basic math in Programming.  Read the lab very carefully, taking care to perform each task as indicated in the code blocks.\n",
    "\n",
    "### As usual, please run all and clear all to get started."
   ]
  },
  {
   "cell_type": "markdown",
   "metadata": {},
   "source": [
    "<hr>"
   ]
  },
  {
   "cell_type": "markdown",
   "metadata": {},
   "source": [
    "## Parentheses Matter!"
   ]
  },
  {
   "cell_type": "markdown",
   "metadata": {},
   "source": [
    "Just like in math class, expressions enclosed in parentheses have priority. So the PEMDAS (\"Please excuse my dear Aunt Sally\") rules apply.</p>"
   ]
  },
  {
   "cell_type": "code",
   "execution_count": null,
   "metadata": {},
   "outputs": [],
   "source": [
    "#Guess at the values of x and y below and then run the cell to checl (Shift+Enter)\n",
    "\n",
    "x = (5 + 2) * 6\n",
    "print(x)\n",
    "\n",
    "y = 5 + 2 * 6\n",
    "print(y)"
   ]
  },
  {
   "cell_type": "markdown",
   "metadata": {},
   "source": [
    "<hr>"
   ]
  },
  {
   "cell_type": "markdown",
   "metadata": {},
   "source": [
    "<h2 id=\"expressions\">Integer Division</h2>"
   ]
  },
  {
   "cell_type": "markdown",
   "metadata": {},
   "source": [
    "Remember that one slash means divide.\n",
    "\n"
   ]
  },
  {
   "cell_type": "code",
   "execution_count": null,
   "metadata": {},
   "outputs": [],
   "source": [
    "# Division operation expression \n",
    "# Guess what the cell below will print out.  Then run it to check your guess. (Shift+Enter)\n",
    "\n",
    "print(18 / 3)\n",
    "print(25 / 6)"
   ]
  },
  {
   "cell_type": "markdown",
   "metadata": {},
   "source": [
    "<p>We can use the double slash for integer division, where the result truncates/drops the decimal portion of the number, like in the examples below."
   ]
  },
  {
   "cell_type": "code",
   "execution_count": null,
   "metadata": {},
   "outputs": [],
   "source": [
    "# Integer division operation expression:  Run this cell to see what is printed out!  Do you understand why?\n",
    "\n",
    "13 // 4    #This computes how many times 4 goes evenly into 13.  So the remainder is dropped!"
   ]
  },
  {
   "cell_type": "code",
   "execution_count": null,
   "metadata": {},
   "outputs": [],
   "source": [
    "# Integer division operation expression:  Run this cell to see what is printed out!\n",
    "\n",
    "10 // 5    #This computes how many times 5 goes evenly into 10"
   ]
  },
  {
   "cell_type": "markdown",
   "metadata": {},
   "source": [
    "Let's get some practice.  Guess what will be printed below."
   ]
  },
  {
   "cell_type": "code",
   "execution_count": null,
   "metadata": {},
   "outputs": [],
   "source": [
    "#Guess at what is printed out!  Then run and check!\n",
    "x =  5 // 2 \n",
    "y =  5 /  2\n",
    "print(x)  \n",
    "print(y)"
   ]
  },
  {
   "cell_type": "code",
   "execution_count": null,
   "metadata": {},
   "outputs": [],
   "source": [
    "#Guess at what is printed out!  Then run and check!\n",
    "x =  20 // 2 \n",
    "y =  20 /  2\n",
    "print(x)  #Is x an integer or a float?\n",
    "print(y)  #Is y an integer or a float?\n"
   ]
  },
  {
   "cell_type": "code",
   "execution_count": null,
   "metadata": {},
   "outputs": [],
   "source": [
    "#Guess at what is printed out!  Then run and check!\n",
    "x =  2 / 10 \n",
    "y =  2 //  10\n",
    "\n",
    "print(x)  \n",
    "print(y)"
   ]
  },
  {
   "cell_type": "code",
   "execution_count": null,
   "metadata": {},
   "outputs": [],
   "source": [
    "#Guess at what is printed out!  Then run and check!\n",
    "x =  4 / 3 \n",
    "y =  4 //  3\n",
    "\n",
    "print(x)  \n",
    "print(y)"
   ]
  },
  {
   "cell_type": "markdown",
   "metadata": {},
   "source": [
    "<h3 id=\"exer_exp\">Exercise: Regular Division vs. Integer Division.</h3>"
   ]
  },
  {
   "cell_type": "markdown",
   "metadata": {},
   "source": [
    "<p>Let's write an expression that calculates how many nickels we would need to make 38 cents.</p>"
   ]
  },
  {
   "cell_type": "code",
   "execution_count": null,
   "metadata": {},
   "outputs": [],
   "source": [
    "# Write your code below. Don't forget to press Shift+Enter to execute the cell\n",
    "\n"
   ]
  },
  {
   "cell_type": "markdown",
   "metadata": {},
   "source": [
    "Double-click __here__ for the solution.\n",
    "\n",
    "<!-- Your answer is below:\n",
    "38 // 5\n",
    "-->"
   ]
  },
  {
   "cell_type": "markdown",
   "metadata": {},
   "source": [
    "<p>John has 3 slices of a pizza pie that was cut into 8 equal slices. Print what percentage of the pie John has.</p>"
   ]
  },
  {
   "cell_type": "code",
   "execution_count": null,
   "metadata": {},
   "outputs": [],
   "source": [
    "# Write your code below. Don't forget to press Shift+Enter to execute the cell\n",
    "slices = 3\n",
    "\n",
    "#Print the percentage here.\n"
   ]
  },
  {
   "cell_type": "markdown",
   "metadata": {},
   "source": [
    "Double-click __here__ for the solution.\n",
    "\n",
    "<!-- Your answer is below:\n",
    "percentage = (3 / 8) * 100\n",
    "\n",
    "print(str(percentage) + \"%\")\n",
    "-->"
   ]
  },
  {
   "cell_type": "markdown",
   "metadata": {},
   "source": [
    "<hr/>"
   ]
  },
  {
   "cell_type": "markdown",
   "metadata": {},
   "source": [
    "## Exponents \n",
    "\n",
    "How do we take exponents in Python?  For example, you know that the volume of a cube with a side length of $s$ is $ V = s^3 $. Let's look at the following example."
   ]
  },
  {
   "cell_type": "code",
   "execution_count": null,
   "metadata": {},
   "outputs": [],
   "source": [
    "#Say the side length is 5\n",
    "s = 5\n",
    "\n",
    "#Then the volume is:\n",
    "volume = s * s * s\n",
    "print(volume)"
   ]
  },
  {
   "cell_type": "markdown",
   "metadata": {},
   "source": [
    "Another way to raise values to a power is to use ```**```.  In other words:\n",
    "\n",
    "$$x**y\\,\\,\\, = \\,\\,\\, x^y$$  \n",
    "\n",
    "Here are some examples."
   ]
  },
  {
   "cell_type": "code",
   "execution_count": null,
   "metadata": {},
   "outputs": [],
   "source": [
    "#Take a guess at the value below and then run the cell to check!\n",
    "\n",
    "2**3  #Raises 2 to the 3rd power"
   ]
  },
  {
   "cell_type": "code",
   "execution_count": null,
   "metadata": {},
   "outputs": [],
   "source": [
    "#Take a guess at the value below and then run the cell to check!\n",
    "3**2"
   ]
  },
  {
   "cell_type": "code",
   "execution_count": null,
   "metadata": {},
   "outputs": [],
   "source": [
    "#Take a guess at the value below and then run the cell to check!\n",
    "4**3"
   ]
  },
  {
   "cell_type": "code",
   "execution_count": null,
   "metadata": {},
   "outputs": [],
   "source": [
    "#Take a guess at the value below and then run the cell to check!\n",
    "1.5**3"
   ]
  },
  {
   "cell_type": "markdown",
   "metadata": {},
   "source": [
    "Remember that taking squareroot is the same thing as raising to the 1/2 power. \n",
    "\n",
    "So $\\sqrt{x}=x^{1/2}$.\n",
    "\n",
    "This means that we can use double asteriks to compute square roots.  Let's try it!"
   ]
  },
  {
   "cell_type": "code",
   "execution_count": null,
   "metadata": {},
   "outputs": [],
   "source": [
    "#Take a guess at the value below and then run the cell to check!\n",
    "64**0.5"
   ]
  },
  {
   "cell_type": "code",
   "execution_count": null,
   "metadata": {},
   "outputs": [],
   "source": [
    "#Take a guess at the value below and then run the cell to check!\n",
    "25**0.5"
   ]
  },
  {
   "cell_type": "markdown",
   "metadata": {},
   "source": [
    "### Exercise: Using Exponents. \n",
    "\n",
    "Recall that below, we computed the volume of a cube.  Update this code so that it uses double asteriks to do the cubing."
   ]
  },
  {
   "cell_type": "code",
   "execution_count": null,
   "metadata": {},
   "outputs": [],
   "source": [
    "#Say the side length is 5\n",
    "s = 10\n",
    "\n",
    "#Then the volume is:\n",
    "volume = s * s * s\n",
    "print(volume)"
   ]
  },
  {
   "cell_type": "markdown",
   "metadata": {},
   "source": [
    "Double-click __here__ for the solution.\n",
    "\n",
    "<!-- \n",
    "volume = s ** 3\n",
    "-->"
   ]
  },
  {
   "cell_type": "markdown",
   "metadata": {},
   "source": [
    "### Exercise: Computing Square Roots\n",
    "\n",
    "You make remember the quadratic formula, which says that the equation $ax^2+bx+c=0$ has the following solution.  \n",
    "\n",
    "$$x=\\frac{-b\\pm\\sqrt{b^2-4ac}}{2a}$$\n",
    "\n",
    "Write code below so that you find the solution to the equation $2x^2-11x+5=0$.  So in this example, $a=2, b=-11$, and $c = 5$."
   ]
  },
  {
   "cell_type": "code",
   "execution_count": null,
   "metadata": {},
   "outputs": [],
   "source": [
    "#Set up our variables.\n",
    "a = 2\n",
    "b = -11\n",
    "c = 5\n",
    "\n",
    "#x1 and x2 are set to 0.  Instead, set x1 and x2 equal to the output of the quadratic equation.\n",
    "#Hint:  Let x1 be equal to the solution when you use the + in the quadratic formula\n",
    "#       Let x2 be equal to the solution when you use the - in the quadratic formula\n",
    "#       Know that to code up -b you need to do -1 * b\n",
    "\n",
    "x1 = 0\n",
    "x2 = 0\n",
    "\n",
    "#Print out the resutls\n",
    "print(x1, x2)"
   ]
  },
  {
   "cell_type": "markdown",
   "metadata": {},
   "source": [
    "Double-click __here__ for the solution.\n",
    "\n",
    "<!-- \n",
    "x1 = (-1 * b + (b**2 - 4*a*c) ** 0.5) / (2*a)\n",
    "x2 = (-1 * b - (b**2 - 4*a*c) ** 0.5) / (2*a)\n",
    "-->"
   ]
  }
 ],
 "metadata": {
  "kernelspec": {
   "display_name": "Python 3",
   "language": "python",
   "name": "python3"
  },
  "language_info": {
   "codemirror_mode": {
    "name": "ipython",
    "version": 3
   },
   "file_extension": ".py",
   "mimetype": "text/x-python",
   "name": "python",
   "nbconvert_exporter": "python",
   "pygments_lexer": "ipython3",
   "version": "3.7.9"
  }
 },
 "nbformat": 4,
 "nbformat_minor": 4
}
