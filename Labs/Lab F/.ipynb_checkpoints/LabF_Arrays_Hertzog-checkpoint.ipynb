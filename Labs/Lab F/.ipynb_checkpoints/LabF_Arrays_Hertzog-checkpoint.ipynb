{
 "cells": [
  {
   "cell_type": "markdown",
   "metadata": {},
   "source": [
    "Your Name: Nick Hertzog"
   ]
  },
  {
   "cell_type": "markdown",
   "metadata": {},
   "source": [
    "# Run the cell below to import what you need for this lab!"
   ]
  },
  {
   "cell_type": "code",
   "execution_count": 1,
   "metadata": {},
   "outputs": [],
   "source": [
    "import numpy as np     #A package that lets us work with arrays!\n",
    "import pandas as pd    #A package for working with tables"
   ]
  },
  {
   "cell_type": "markdown",
   "metadata": {},
   "source": [
    "# Lab F: Arrays\n",
    "\n",
    "So far, we've used Python to manipulate 2 types of information: numbers and Strings.  Oh but there are many more data types in Python!\n",
    "\n",
    "To work with datasets in Python, we need to work often with  *collections* of data, like the numbers 2 through 5 or the words \"welcome\", \"to\", and \"lab\".  Python provides many types to work with collections of data.  We will mostly be concerned with these types.\n",
    "\n",
    "* arrays, dictonaries, and dataframes\n",
    "\n",
    "\n",
    "\n",
    "In this class, we principally use two kinds of collections:\n",
    "  * **Arrays:** An array is a collection of many pieces of a single kind of data, kept in order.  An array is like a single column in an Excel spreadsheet.\n",
    "  * **Tables:** A table is a collection of many pieces of different kinds of data.  It's like an entire Excel spreadsheet.  Each row of a table represents one entity, and each column contains a different kind of data about each entity.\n",
    "\n",
    "*****\n",
    "### As usual, please run all and clear all output to get started.\n",
    "\n",
    "### If you cannot see the pictures in this notebook, call me over so I can help you figure out how to load them.\n",
    "\n",
    "*****"
   ]
  },
  {
   "cell_type": "markdown",
   "metadata": {},
   "source": [
    "# 1. Arrays"
   ]
  },
  {
   "cell_type": "markdown",
   "metadata": {},
   "source": [
    "\n",
    "Up to now, we haven't done much that you couldn't do yourself by hand, without going through the trouble of learning Python.  Computers are most useful when you can use a small amount of code to *do the same action* to *many different things*.\n",
    "\n",
    "For example, in the time it takes you to calculate the 18% tip on a restaurant bill, a laptop can calculate 18% tips for every restaurant bill paid by every human on Earth that day.  (That's if you're pretty fast at doing arithmetic in your head!)\n",
    "\n",
    "Arrays are how we put many values in one place so that we can operate on them as a group.  For example, if `billions_of_numbers` is an array of numbers, the expression\n",
    "\n",
    "    .18 * billions_of_numbers\n",
    "\n",
    "gives a new array of numbers that's the result of multiplying each number in `billions_of_numbers` by .18 (18%).  Arrays are not limited to numbers; we can also put all the words in a book into an array of strings.\n",
    "\n",
    "Concretely, an array is like a column in an Excel spreadsheet.\n",
    "\n",
    "<img src=\"excel_array.jpg\">"
   ]
  },
  {
   "cell_type": "markdown",
   "metadata": {},
   "source": [
    "# 2. Making arrays\n",
    "You can type in the data that goes in an array yourself, but that's not typically how programs work. Normally, we create arrays by loading them from an external source, like a data file.\n",
    "\n",
    "First, though, let's learn how to do it the hard way.\n",
    "\n",
    "To create an array, call the function `np.array`.  You pass just one argument to `np.array`, a list of values between hard/square brackets.  The function returns an array with all elements in the list you gave it.  Run this cell to see an example:"
   ]
  },
  {
   "cell_type": "code",
   "execution_count": 2,
   "metadata": {
    "collapsed": false,
    "jupyter": {
     "outputs_hidden": false
    },
    "scrolled": true
   },
   "outputs": [
    {
     "data": {
      "text/plain": [
       "array([ 0.125,  4.75 , -1.3  ])"
      ]
     },
     "execution_count": 2,
     "metadata": {},
     "output_type": "execute_result"
    }
   ],
   "source": [
    "np.array([0.125, 4.75, -1.3])"
   ]
  },
  {
   "cell_type": "markdown",
   "metadata": {},
   "source": [
    "Each thing in an array (in the above case, the numbers 0.125, 4.75, and -1.3) is called an *element* of that array.\n",
    "\n",
    "Arrays are values, just like numbers and strings.  That means you can assign them names or use them as arguments to functions.\n",
    "\n",
    "# **Question 1.** \n",
    "Make an array containing the numbers 1, 2, and 3, in that order.  Name it `small_numbers`."
   ]
  },
  {
   "cell_type": "code",
   "execution_count": 14,
   "metadata": {
    "collapsed": false,
    "jupyter": {
     "outputs_hidden": false
    }
   },
   "outputs": [
    {
     "data": {
      "text/plain": [
       "array([1, 2, 3])"
      ]
     },
     "execution_count": 14,
     "metadata": {},
     "output_type": "execute_result"
    }
   ],
   "source": [
    "small_numbers = np.array([1,2,3])\n",
    "small_numbers"
   ]
  },
  {
   "cell_type": "markdown",
   "metadata": {},
   "source": [
    "# **Question 2.** \n",
    "\n",
    "Make an array containing the numbers 0, 1, -1, $\\pi$, and $e$, in that order.  Name it `interesting_numbers`.  *Hint:* How did you get the values $\\pi$ and $e$ earlier?  You can refer to them in exactly the same way here."
   ]
  },
  {
   "cell_type": "code",
   "execution_count": 15,
   "metadata": {
    "collapsed": false,
    "jupyter": {
     "outputs_hidden": false
    }
   },
   "outputs": [
    {
     "data": {
      "text/plain": [
       "array([ 0.        ,  1.        , -1.        ,  3.14159265,  2.71828183])"
      ]
     },
     "execution_count": 15,
     "metadata": {},
     "output_type": "execute_result"
    }
   ],
   "source": [
    "import math\n",
    "interesting_numbers = np.array([0,1,-1,math.pi,math.e])\n",
    "interesting_numbers"
   ]
  },
  {
   "cell_type": "markdown",
   "metadata": {},
   "source": [
    "# **Question 3.** \n",
    "Make an array containing the five strings `\"Hello\"`, `\",\"`, `\" \"`, `\"world\"`, and `\"!\"`.  (The third one is a single space inside quotes.)  Name it `hello_world_components`.\n",
    "\n",
    "*Note:* If you print `hello_world_components`, you'll notice some extra information in addition to its contents: `dtype='<U5'`.  That's just NumPy's extremely cryptic way of saying that the things in the array are strings."
   ]
  },
  {
   "cell_type": "code",
   "execution_count": 16,
   "metadata": {
    "collapsed": false,
    "jupyter": {
     "outputs_hidden": false
    }
   },
   "outputs": [
    {
     "data": {
      "text/plain": [
       "array(['Hello', ',', ' ', 'world', '!'], dtype='<U5')"
      ]
     },
     "execution_count": 16,
     "metadata": {},
     "output_type": "execute_result"
    }
   ],
   "source": [
    "hello_world_components = np.array([\"Hello\", \",\", \" \", \"world\" ,\"!\"])\n",
    "hello_world_components"
   ]
  },
  {
   "cell_type": "markdown",
   "metadata": {},
   "source": [
    "# 3. A helpful function: `np.arange`\n",
    "Arrays are provided by a package called [NumPy](http://www.numpy.org/) (pronounced \"NUM-pie\" or, if you prefer to pronounce things incorrectly, \"NUM-pee\").  The package is called `numpy`, but it's standard to rename it `np` for brevity.  You can do that with:\n",
    "\n",
    "    import numpy as np\n",
    "\n",
    "Very often in data science, we want to work with many numbers that are evenly spaced within some range.  NumPy provides a special function for this called `arange`.  `np.arange(start, stop, space)` produces an array with all the numbers starting at `start` and counting up by `space`, stopping before `stop` is reached.\n",
    "\n",
    "For example, the value of `np.arange(1, 6, 2)` is an array with elements 1, 3, and 5 -- it starts at 1 and counts up by 2, then stops before 6.  In other words, it's equivalent to `make_array(1, 3, 5)`.\n",
    "\n",
    "`np.arange(4, 9, 1)` is an array with elements 4, 5, 6, 7, and 8.  (It doesn't contain 9 because `arange` stops *before* the stop value is reached.)"
   ]
  },
  {
   "cell_type": "markdown",
   "metadata": {},
   "source": [
    "# **Question 4.** \n",
    "Import `numpy` as `np` and then use `np.arange` to create an array with the multiples of 99 from 0 up to (**and including**) 9999.  (So its elements are 0, 99, 198, 297, etc.)"
   ]
  },
  {
   "cell_type": "code",
   "execution_count": 17,
   "metadata": {
    "collapsed": false,
    "jupyter": {
     "outputs_hidden": false
    }
   },
   "outputs": [
    {
     "data": {
      "text/plain": [
       "array([   0,   99,  198,  297,  396,  495,  594,  693,  792,  891,  990,\n",
       "       1089, 1188, 1287, 1386, 1485, 1584, 1683, 1782, 1881, 1980, 2079,\n",
       "       2178, 2277, 2376, 2475, 2574, 2673, 2772, 2871, 2970, 3069, 3168,\n",
       "       3267, 3366, 3465, 3564, 3663, 3762, 3861, 3960, 4059, 4158, 4257,\n",
       "       4356, 4455, 4554, 4653, 4752, 4851, 4950, 5049, 5148, 5247, 5346,\n",
       "       5445, 5544, 5643, 5742, 5841, 5940, 6039, 6138, 6237, 6336, 6435,\n",
       "       6534, 6633, 6732, 6831, 6930, 7029, 7128, 7227, 7326, 7425, 7524,\n",
       "       7623, 7722, 7821, 7920, 8019, 8118, 8217, 8316, 8415, 8514, 8613,\n",
       "       8712, 8811, 8910, 9009, 9108, 9207, 9306, 9405, 9504, 9603, 9702,\n",
       "       9801, 9900, 9999])"
      ]
     },
     "execution_count": 17,
     "metadata": {},
     "output_type": "execute_result"
    }
   ],
   "source": [
    "import numpy as np\n",
    "multiples_of_99 = np.arange(0, 10000, 99)\n",
    "multiples_of_99"
   ]
  },
  {
   "cell_type": "markdown",
   "metadata": {},
   "source": [
    "## 3.1 A Real Life Example of `arange`: Temperature readings\n",
    "NOAA (the US National Oceanic and Atmospheric Administration) operates weather stations that measure surface temperatures at different sites around the United States.  The hourly readings are [publicly available](http://www.ncdc.noaa.gov/qclcd/QCLCD?prior=N).\n",
    "\n",
    "Suppose we download all the hourly data from the Oakland, California site for the month of December 2015.  To analyze the data, we want to know when each reading was taken, but we find that the data don't include the timestamps of the readings (the time at which each one was taken).\n",
    "\n",
    "However, we know the first reading was taken at the first instant of December 2015 (midnight on December 1st) and each subsequent reading was taken exactly 1 hour after the last."
   ]
  },
  {
   "cell_type": "markdown",
   "metadata": {},
   "source": [
    "# **Question 5.** \n",
    "Create an array of the *time, in seconds, since the start of the month* at which each hourly reading was taken.  Name it `collection_times`.\n",
    "\n",
    "*Hint:* There were 31 days in December, which is equivalent to $31 \\times 24$ hours or $31 \\times 24 \\times 60 \\times 60$ seconds.  So your array should have $31 \\times 24$ elements in it.\n",
    "\n",
    "*Hint 2:* The `len` function works on arrays, too.  So check that `collection_times` is $31 \\times 24$ elements if you want to know you're on the right track."
   ]
  },
  {
   "cell_type": "code",
   "execution_count": 21,
   "metadata": {
    "collapsed": false,
    "jupyter": {
     "outputs_hidden": false
    }
   },
   "outputs": [
    {
     "data": {
      "text/plain": [
       "array([   60,   120,   180,   240,   300,   360,   420,   480,   540,\n",
       "         600,   660,   720,   780,   840,   900,   960,  1020,  1080,\n",
       "        1140,  1200,  1260,  1320,  1380,  1440,  1500,  1560,  1620,\n",
       "        1680,  1740,  1800,  1860,  1920,  1980,  2040,  2100,  2160,\n",
       "        2220,  2280,  2340,  2400,  2460,  2520,  2580,  2640,  2700,\n",
       "        2760,  2820,  2880,  2940,  3000,  3060,  3120,  3180,  3240,\n",
       "        3300,  3360,  3420,  3480,  3540,  3600,  3660,  3720,  3780,\n",
       "        3840,  3900,  3960,  4020,  4080,  4140,  4200,  4260,  4320,\n",
       "        4380,  4440,  4500,  4560,  4620,  4680,  4740,  4800,  4860,\n",
       "        4920,  4980,  5040,  5100,  5160,  5220,  5280,  5340,  5400,\n",
       "        5460,  5520,  5580,  5640,  5700,  5760,  5820,  5880,  5940,\n",
       "        6000,  6060,  6120,  6180,  6240,  6300,  6360,  6420,  6480,\n",
       "        6540,  6600,  6660,  6720,  6780,  6840,  6900,  6960,  7020,\n",
       "        7080,  7140,  7200,  7260,  7320,  7380,  7440,  7500,  7560,\n",
       "        7620,  7680,  7740,  7800,  7860,  7920,  7980,  8040,  8100,\n",
       "        8160,  8220,  8280,  8340,  8400,  8460,  8520,  8580,  8640,\n",
       "        8700,  8760,  8820,  8880,  8940,  9000,  9060,  9120,  9180,\n",
       "        9240,  9300,  9360,  9420,  9480,  9540,  9600,  9660,  9720,\n",
       "        9780,  9840,  9900,  9960, 10020, 10080, 10140, 10200, 10260,\n",
       "       10320, 10380, 10440, 10500, 10560, 10620, 10680, 10740, 10800,\n",
       "       10860, 10920, 10980, 11040, 11100, 11160, 11220, 11280, 11340,\n",
       "       11400, 11460, 11520, 11580, 11640, 11700, 11760, 11820, 11880,\n",
       "       11940, 12000, 12060, 12120, 12180, 12240, 12300, 12360, 12420,\n",
       "       12480, 12540, 12600, 12660, 12720, 12780, 12840, 12900, 12960,\n",
       "       13020, 13080, 13140, 13200, 13260, 13320, 13380, 13440, 13500,\n",
       "       13560, 13620, 13680, 13740, 13800, 13860, 13920, 13980, 14040,\n",
       "       14100, 14160, 14220, 14280, 14340, 14400, 14460, 14520, 14580,\n",
       "       14640, 14700, 14760, 14820, 14880, 14940, 15000, 15060, 15120,\n",
       "       15180, 15240, 15300, 15360, 15420, 15480, 15540, 15600, 15660,\n",
       "       15720, 15780, 15840, 15900, 15960, 16020, 16080, 16140, 16200,\n",
       "       16260, 16320, 16380, 16440, 16500, 16560, 16620, 16680, 16740,\n",
       "       16800, 16860, 16920, 16980, 17040, 17100, 17160, 17220, 17280,\n",
       "       17340, 17400, 17460, 17520, 17580, 17640, 17700, 17760, 17820,\n",
       "       17880, 17940, 18000, 18060, 18120, 18180, 18240, 18300, 18360,\n",
       "       18420, 18480, 18540, 18600, 18660, 18720, 18780, 18840, 18900,\n",
       "       18960, 19020, 19080, 19140, 19200, 19260, 19320, 19380, 19440,\n",
       "       19500, 19560, 19620, 19680, 19740, 19800, 19860, 19920, 19980,\n",
       "       20040, 20100, 20160, 20220, 20280, 20340, 20400, 20460, 20520,\n",
       "       20580, 20640, 20700, 20760, 20820, 20880, 20940, 21000, 21060,\n",
       "       21120, 21180, 21240, 21300, 21360, 21420, 21480, 21540, 21600,\n",
       "       21660, 21720, 21780, 21840, 21900, 21960, 22020, 22080, 22140,\n",
       "       22200, 22260, 22320, 22380, 22440, 22500, 22560, 22620, 22680,\n",
       "       22740, 22800, 22860, 22920, 22980, 23040, 23100, 23160, 23220,\n",
       "       23280, 23340, 23400, 23460, 23520, 23580, 23640, 23700, 23760,\n",
       "       23820, 23880, 23940, 24000, 24060, 24120, 24180, 24240, 24300,\n",
       "       24360, 24420, 24480, 24540, 24600, 24660, 24720, 24780, 24840,\n",
       "       24900, 24960, 25020, 25080, 25140, 25200, 25260, 25320, 25380,\n",
       "       25440, 25500, 25560, 25620, 25680, 25740, 25800, 25860, 25920,\n",
       "       25980, 26040, 26100, 26160, 26220, 26280, 26340, 26400, 26460,\n",
       "       26520, 26580, 26640, 26700, 26760, 26820, 26880, 26940, 27000,\n",
       "       27060, 27120, 27180, 27240, 27300, 27360, 27420, 27480, 27540,\n",
       "       27600, 27660, 27720, 27780, 27840, 27900, 27960, 28020, 28080,\n",
       "       28140, 28200, 28260, 28320, 28380, 28440, 28500, 28560, 28620,\n",
       "       28680, 28740, 28800, 28860, 28920, 28980, 29040, 29100, 29160,\n",
       "       29220, 29280, 29340, 29400, 29460, 29520, 29580, 29640, 29700,\n",
       "       29760, 29820, 29880, 29940, 30000, 30060, 30120, 30180, 30240,\n",
       "       30300, 30360, 30420, 30480, 30540, 30600, 30660, 30720, 30780,\n",
       "       30840, 30900, 30960, 31020, 31080, 31140, 31200, 31260, 31320,\n",
       "       31380, 31440, 31500, 31560, 31620, 31680, 31740, 31800, 31860,\n",
       "       31920, 31980, 32040, 32100, 32160, 32220, 32280, 32340, 32400,\n",
       "       32460, 32520, 32580, 32640, 32700, 32760, 32820, 32880, 32940,\n",
       "       33000, 33060, 33120, 33180, 33240, 33300, 33360, 33420, 33480,\n",
       "       33540, 33600, 33660, 33720, 33780, 33840, 33900, 33960, 34020,\n",
       "       34080, 34140, 34200, 34260, 34320, 34380, 34440, 34500, 34560,\n",
       "       34620, 34680, 34740, 34800, 34860, 34920, 34980, 35040, 35100,\n",
       "       35160, 35220, 35280, 35340, 35400, 35460, 35520, 35580, 35640,\n",
       "       35700, 35760, 35820, 35880, 35940, 36000, 36060, 36120, 36180,\n",
       "       36240, 36300, 36360, 36420, 36480, 36540, 36600, 36660, 36720,\n",
       "       36780, 36840, 36900, 36960, 37020, 37080, 37140, 37200, 37260,\n",
       "       37320, 37380, 37440, 37500, 37560, 37620, 37680, 37740, 37800,\n",
       "       37860, 37920, 37980, 38040, 38100, 38160, 38220, 38280, 38340,\n",
       "       38400, 38460, 38520, 38580, 38640, 38700, 38760, 38820, 38880,\n",
       "       38940, 39000, 39060, 39120, 39180, 39240, 39300, 39360, 39420,\n",
       "       39480, 39540, 39600, 39660, 39720, 39780, 39840, 39900, 39960,\n",
       "       40020, 40080, 40140, 40200, 40260, 40320, 40380, 40440, 40500,\n",
       "       40560, 40620, 40680, 40740, 40800, 40860, 40920, 40980, 41040,\n",
       "       41100, 41160, 41220, 41280, 41340, 41400, 41460, 41520, 41580,\n",
       "       41640, 41700, 41760, 41820, 41880, 41940, 42000, 42060, 42120,\n",
       "       42180, 42240, 42300, 42360, 42420, 42480, 42540, 42600, 42660,\n",
       "       42720, 42780, 42840, 42900, 42960, 43020, 43080, 43140, 43200,\n",
       "       43260, 43320, 43380, 43440, 43500, 43560, 43620, 43680, 43740,\n",
       "       43800, 43860, 43920, 43980, 44040, 44100, 44160, 44220, 44280,\n",
       "       44340, 44400, 44460, 44520, 44580])"
      ]
     },
     "execution_count": 21,
     "metadata": {},
     "output_type": "execute_result"
    }
   ],
   "source": [
    "collection_times = np.arange(60, 44640, 60)\n",
    "collection_times"
   ]
  },
  {
   "cell_type": "markdown",
   "metadata": {},
   "source": [
    "# 4 Working with single elements of arrays (\"indexing\")\n",
    "Let's work with a more interesting dataset.  The next cell creates an array called `population` that includes estimated world populations in every year from **1950** to roughly the present.  (The estimates come from the [US Census Bureau website](http://www.census.gov/population/international/data/worldpop/table_population.php).)\n",
    "\n",
    "Rather than type in the data manually, we've loaded them from a file on your computer called `world_population.csv`.  You'll learn how to do that soon."
   ]
  },
  {
   "cell_type": "code",
   "execution_count": 8,
   "metadata": {
    "collapsed": false,
    "jupyter": {
     "outputs_hidden": false
    }
   },
   "outputs": [],
   "source": [
    "# Don't worry too much about what goes on in this cell.\n",
    "population_table = pd.read_csv(\"world_population.csv\")\n",
    "population = population_table[\"Population\"].to_numpy()"
   ]
  },
  {
   "cell_type": "markdown",
   "metadata": {},
   "source": [
    "Here's how we get the first element of `population`, which is the world population in the first year in the dataset, 1950."
   ]
  },
  {
   "cell_type": "code",
   "execution_count": 9,
   "metadata": {
    "collapsed": false,
    "jupyter": {
     "outputs_hidden": false
    }
   },
   "outputs": [
    {
     "data": {
      "text/plain": [
       "2557628654"
      ]
     },
     "execution_count": 9,
     "metadata": {},
     "output_type": "execute_result"
    }
   ],
   "source": [
    "population[0]"
   ]
  },
  {
   "cell_type": "markdown",
   "metadata": {},
   "source": [
    "The value of that expression is the number 2557628654 (around 2.5 billion), because that's the first thing in the array `population`.\n",
    "\n",
    "Notice that we wrote `[0]`, not `[1]`, to get the first element.  This is a weird convention in computer science.  0 is called the *index* of the first item.  It's the number of elements that appear *before* that item.  So 3 is the index of the 4th item.\n",
    "\n",
    "Here are some more examples.  In the examples, we've given names to the things we get out of `population`.  Read and run each cell."
   ]
  },
  {
   "cell_type": "code",
   "execution_count": 10,
   "metadata": {
    "collapsed": false,
    "jupyter": {
     "outputs_hidden": false
    }
   },
   "outputs": [
    {
     "data": {
      "text/plain": [
       "2636772306"
      ]
     },
     "execution_count": 10,
     "metadata": {},
     "output_type": "execute_result"
    }
   ],
   "source": [
    "# The third element in the array is the population\n",
    "# in 1952.\n",
    "population_1952 = population[2]\n",
    "population_1952"
   ]
  },
  {
   "cell_type": "code",
   "execution_count": 11,
   "metadata": {
    "collapsed": false,
    "jupyter": {
     "outputs_hidden": false
    }
   },
   "outputs": [
    {
     "data": {
      "text/plain": [
       "3209827882"
      ]
     },
     "execution_count": 11,
     "metadata": {},
     "output_type": "execute_result"
    }
   ],
   "source": [
    "# The thirteenth element in the array is the population\n",
    "# in 1962 (which is 1950 + 12).\n",
    "population_1962 = population[13]\n",
    "population_1962"
   ]
  },
  {
   "cell_type": "code",
   "execution_count": 12,
   "metadata": {
    "collapsed": false,
    "jupyter": {
     "outputs_hidden": false
    }
   },
   "outputs": [
    {
     "data": {
      "text/plain": [
       "7256490011"
      ]
     },
     "execution_count": 12,
     "metadata": {},
     "output_type": "execute_result"
    }
   ],
   "source": [
    "# The 66th element is the population in 2015.\n",
    "population_2015 = population[65]\n",
    "population_2015"
   ]
  },
  {
   "cell_type": "code",
   "execution_count": 13,
   "metadata": {
    "collapsed": false,
    "jupyter": {
     "outputs_hidden": false
    }
   },
   "outputs": [
    {
     "ename": "IndexError",
     "evalue": "index 66 is out of bounds for axis 0 with size 66",
     "output_type": "error",
     "traceback": [
      "\u001b[1;31m---------------------------------------------------------------------------\u001b[0m",
      "\u001b[1;31mIndexError\u001b[0m                                Traceback (most recent call last)",
      "\u001b[1;32m<ipython-input-13-8f48a0a0292d>\u001b[0m in \u001b[0;36m<module>\u001b[1;34m\u001b[0m\n\u001b[0;32m      1\u001b[0m \u001b[1;31m# The array has only 66 elements, so this doesn't work.\u001b[0m\u001b[1;33m\u001b[0m\u001b[1;33m\u001b[0m\u001b[1;33m\u001b[0m\u001b[0m\n\u001b[0;32m      2\u001b[0m \u001b[1;31m# (There's no element with 66 other elements before it.)\u001b[0m\u001b[1;33m\u001b[0m\u001b[1;33m\u001b[0m\u001b[1;33m\u001b[0m\u001b[0m\n\u001b[1;32m----> 3\u001b[1;33m \u001b[0mpopulation_2016\u001b[0m \u001b[1;33m=\u001b[0m \u001b[0mpopulation\u001b[0m\u001b[1;33m[\u001b[0m\u001b[1;36m66\u001b[0m\u001b[1;33m]\u001b[0m\u001b[1;33m\u001b[0m\u001b[1;33m\u001b[0m\u001b[0m\n\u001b[0m\u001b[0;32m      4\u001b[0m \u001b[0mpopulation_2016\u001b[0m\u001b[1;33m\u001b[0m\u001b[1;33m\u001b[0m\u001b[0m\n",
      "\u001b[1;31mIndexError\u001b[0m: index 66 is out of bounds for axis 0 with size 66"
     ]
    }
   ],
   "source": [
    "# The array has only 66 elements, so this doesn't work.\n",
    "# (There's no element with 66 other elements before it.)\n",
    "population_2016 = population[66]\n",
    "population_2016"
   ]
  },
  {
   "cell_type": "code",
   "execution_count": null,
   "metadata": {
    "collapsed": false,
    "jupyter": {
     "outputs_hidden": false
    }
   },
   "outputs": [],
   "source": [
    "# Since make_array returns an array, we can call [3]\n",
    "# on its output to get its 4th element, just like we\n",
    "np.array([-1, -3, 4, -2])[3]"
   ]
  },
  {
   "cell_type": "markdown",
   "metadata": {},
   "source": [
    "# **Question 6.** \n",
    "\n",
    "Set `population_1973` to the world population in 1973, by getting the appropriate element from `population` using `[]` notation."
   ]
  },
  {
   "cell_type": "code",
   "execution_count": 22,
   "metadata": {
    "collapsed": false,
    "jupyter": {
     "outputs_hidden": false
    }
   },
   "outputs": [
    {
     "data": {
      "text/plain": [
       "3942096442"
      ]
     },
     "execution_count": 22,
     "metadata": {},
     "output_type": "execute_result"
    }
   ],
   "source": [
    "population_1973 = population[23]\n",
    "population_1973"
   ]
  },
  {
   "cell_type": "markdown",
   "metadata": {},
   "source": [
    "Run the next cell to visualize the elements of `population` and their indices.  You'll learn next week how to make tables like this!"
   ]
  },
  {
   "cell_type": "code",
   "execution_count": 23,
   "metadata": {
    "collapsed": false,
    "jupyter": {
     "outputs_hidden": false
    }
   },
   "outputs": [
    {
     "data": {
      "text/html": [
       "<div>\n",
       "<style scoped>\n",
       "    .dataframe tbody tr th:only-of-type {\n",
       "        vertical-align: middle;\n",
       "    }\n",
       "\n",
       "    .dataframe tbody tr th {\n",
       "        vertical-align: top;\n",
       "    }\n",
       "\n",
       "    .dataframe thead th {\n",
       "        text-align: right;\n",
       "    }\n",
       "</style>\n",
       "<table border=\"1\" class=\"dataframe\">\n",
       "  <thead>\n",
       "    <tr style=\"text-align: right;\">\n",
       "      <th></th>\n",
       "      <th>Index</th>\n",
       "      <th>Position</th>\n",
       "      <th>Year</th>\n",
       "      <th>Population</th>\n",
       "    </tr>\n",
       "  </thead>\n",
       "  <tbody>\n",
       "    <tr>\n",
       "      <th>0</th>\n",
       "      <td>0</td>\n",
       "      <td>Item #1</td>\n",
       "      <td>1950</td>\n",
       "      <td>2557628654</td>\n",
       "    </tr>\n",
       "    <tr>\n",
       "      <th>1</th>\n",
       "      <td>1</td>\n",
       "      <td>Item #2</td>\n",
       "      <td>1951</td>\n",
       "      <td>2594939877</td>\n",
       "    </tr>\n",
       "    <tr>\n",
       "      <th>2</th>\n",
       "      <td>2</td>\n",
       "      <td>Item #3</td>\n",
       "      <td>1952</td>\n",
       "      <td>2636772306</td>\n",
       "    </tr>\n",
       "    <tr>\n",
       "      <th>3</th>\n",
       "      <td>3</td>\n",
       "      <td>Item #4</td>\n",
       "      <td>1953</td>\n",
       "      <td>2682053389</td>\n",
       "    </tr>\n",
       "    <tr>\n",
       "      <th>4</th>\n",
       "      <td>4</td>\n",
       "      <td>Item #5</td>\n",
       "      <td>1954</td>\n",
       "      <td>2730228104</td>\n",
       "    </tr>\n",
       "    <tr>\n",
       "      <th>5</th>\n",
       "      <td>5</td>\n",
       "      <td>Item #6</td>\n",
       "      <td>1955</td>\n",
       "      <td>2782098943</td>\n",
       "    </tr>\n",
       "    <tr>\n",
       "      <th>6</th>\n",
       "      <td>6</td>\n",
       "      <td>Item #7</td>\n",
       "      <td>1956</td>\n",
       "      <td>2835299673</td>\n",
       "    </tr>\n",
       "    <tr>\n",
       "      <th>7</th>\n",
       "      <td>7</td>\n",
       "      <td>Item #8</td>\n",
       "      <td>1957</td>\n",
       "      <td>2891349717</td>\n",
       "    </tr>\n",
       "    <tr>\n",
       "      <th>8</th>\n",
       "      <td>8</td>\n",
       "      <td>Item #9</td>\n",
       "      <td>1958</td>\n",
       "      <td>2948137248</td>\n",
       "    </tr>\n",
       "    <tr>\n",
       "      <th>9</th>\n",
       "      <td>9</td>\n",
       "      <td>Item #10</td>\n",
       "      <td>1959</td>\n",
       "      <td>3000716593</td>\n",
       "    </tr>\n",
       "    <tr>\n",
       "      <th>10</th>\n",
       "      <td>10</td>\n",
       "      <td>Item #11</td>\n",
       "      <td>1960</td>\n",
       "      <td>3043001508</td>\n",
       "    </tr>\n",
       "    <tr>\n",
       "      <th>11</th>\n",
       "      <td>11</td>\n",
       "      <td>Item #12</td>\n",
       "      <td>1961</td>\n",
       "      <td>3083966929</td>\n",
       "    </tr>\n",
       "    <tr>\n",
       "      <th>12</th>\n",
       "      <td>12</td>\n",
       "      <td>Item #13</td>\n",
       "      <td>1962</td>\n",
       "      <td>3140093217</td>\n",
       "    </tr>\n",
       "    <tr>\n",
       "      <th>13</th>\n",
       "      <td>13</td>\n",
       "      <td>Item #14</td>\n",
       "      <td>1963</td>\n",
       "      <td>3209827882</td>\n",
       "    </tr>\n",
       "    <tr>\n",
       "      <th>14</th>\n",
       "      <td>14</td>\n",
       "      <td>Item #15</td>\n",
       "      <td>1964</td>\n",
       "      <td>3281201306</td>\n",
       "    </tr>\n",
       "    <tr>\n",
       "      <th>15</th>\n",
       "      <td>15</td>\n",
       "      <td>Item #16</td>\n",
       "      <td>1965</td>\n",
       "      <td>3350425793</td>\n",
       "    </tr>\n",
       "    <tr>\n",
       "      <th>16</th>\n",
       "      <td>16</td>\n",
       "      <td>Item #17</td>\n",
       "      <td>1966</td>\n",
       "      <td>3420677923</td>\n",
       "    </tr>\n",
       "    <tr>\n",
       "      <th>17</th>\n",
       "      <td>17</td>\n",
       "      <td>Item #18</td>\n",
       "      <td>1967</td>\n",
       "      <td>3490333715</td>\n",
       "    </tr>\n",
       "    <tr>\n",
       "      <th>18</th>\n",
       "      <td>18</td>\n",
       "      <td>Item #19</td>\n",
       "      <td>1968</td>\n",
       "      <td>3562313822</td>\n",
       "    </tr>\n",
       "    <tr>\n",
       "      <th>19</th>\n",
       "      <td>19</td>\n",
       "      <td>Item #20</td>\n",
       "      <td>1969</td>\n",
       "      <td>3637159050</td>\n",
       "    </tr>\n",
       "    <tr>\n",
       "      <th>20</th>\n",
       "      <td>20</td>\n",
       "      <td>Item #21</td>\n",
       "      <td>1970</td>\n",
       "      <td>3712697742</td>\n",
       "    </tr>\n",
       "    <tr>\n",
       "      <th>21</th>\n",
       "      <td>21</td>\n",
       "      <td>Item #22</td>\n",
       "      <td>1971</td>\n",
       "      <td>3790326948</td>\n",
       "    </tr>\n",
       "    <tr>\n",
       "      <th>22</th>\n",
       "      <td>22</td>\n",
       "      <td>Item #23</td>\n",
       "      <td>1972</td>\n",
       "      <td>3866568653</td>\n",
       "    </tr>\n",
       "    <tr>\n",
       "      <th>23</th>\n",
       "      <td>23</td>\n",
       "      <td>Item #24</td>\n",
       "      <td>1973</td>\n",
       "      <td>3942096442</td>\n",
       "    </tr>\n",
       "    <tr>\n",
       "      <th>24</th>\n",
       "      <td>24</td>\n",
       "      <td>Item #25</td>\n",
       "      <td>1974</td>\n",
       "      <td>4016608813</td>\n",
       "    </tr>\n",
       "    <tr>\n",
       "      <th>25</th>\n",
       "      <td>25</td>\n",
       "      <td>Item #26</td>\n",
       "      <td>1975</td>\n",
       "      <td>4089083233</td>\n",
       "    </tr>\n",
       "    <tr>\n",
       "      <th>26</th>\n",
       "      <td>26</td>\n",
       "      <td>Item #27</td>\n",
       "      <td>1976</td>\n",
       "      <td>4160185010</td>\n",
       "    </tr>\n",
       "    <tr>\n",
       "      <th>27</th>\n",
       "      <td>27</td>\n",
       "      <td>Item #28</td>\n",
       "      <td>1977</td>\n",
       "      <td>4232084578</td>\n",
       "    </tr>\n",
       "    <tr>\n",
       "      <th>28</th>\n",
       "      <td>28</td>\n",
       "      <td>Item #29</td>\n",
       "      <td>1978</td>\n",
       "      <td>4304105753</td>\n",
       "    </tr>\n",
       "    <tr>\n",
       "      <th>29</th>\n",
       "      <td>29</td>\n",
       "      <td>Item #30</td>\n",
       "      <td>1979</td>\n",
       "      <td>4379013942</td>\n",
       "    </tr>\n",
       "    <tr>\n",
       "      <th>30</th>\n",
       "      <td>30</td>\n",
       "      <td>Item #31</td>\n",
       "      <td>1980</td>\n",
       "      <td>4451362735</td>\n",
       "    </tr>\n",
       "    <tr>\n",
       "      <th>31</th>\n",
       "      <td>31</td>\n",
       "      <td>Item #32</td>\n",
       "      <td>1981</td>\n",
       "      <td>4534410125</td>\n",
       "    </tr>\n",
       "    <tr>\n",
       "      <th>32</th>\n",
       "      <td>32</td>\n",
       "      <td>Item #33</td>\n",
       "      <td>1982</td>\n",
       "      <td>4614566561</td>\n",
       "    </tr>\n",
       "    <tr>\n",
       "      <th>33</th>\n",
       "      <td>33</td>\n",
       "      <td>Item #34</td>\n",
       "      <td>1983</td>\n",
       "      <td>4695736743</td>\n",
       "    </tr>\n",
       "    <tr>\n",
       "      <th>34</th>\n",
       "      <td>34</td>\n",
       "      <td>Item #35</td>\n",
       "      <td>1984</td>\n",
       "      <td>4774569391</td>\n",
       "    </tr>\n",
       "    <tr>\n",
       "      <th>35</th>\n",
       "      <td>35</td>\n",
       "      <td>Item #36</td>\n",
       "      <td>1985</td>\n",
       "      <td>4856462699</td>\n",
       "    </tr>\n",
       "    <tr>\n",
       "      <th>36</th>\n",
       "      <td>36</td>\n",
       "      <td>Item #37</td>\n",
       "      <td>1986</td>\n",
       "      <td>4940571232</td>\n",
       "    </tr>\n",
       "    <tr>\n",
       "      <th>37</th>\n",
       "      <td>37</td>\n",
       "      <td>Item #38</td>\n",
       "      <td>1987</td>\n",
       "      <td>5027200492</td>\n",
       "    </tr>\n",
       "    <tr>\n",
       "      <th>38</th>\n",
       "      <td>38</td>\n",
       "      <td>Item #39</td>\n",
       "      <td>1988</td>\n",
       "      <td>5114557167</td>\n",
       "    </tr>\n",
       "    <tr>\n",
       "      <th>39</th>\n",
       "      <td>39</td>\n",
       "      <td>Item #40</td>\n",
       "      <td>1989</td>\n",
       "      <td>5201440110</td>\n",
       "    </tr>\n",
       "    <tr>\n",
       "      <th>40</th>\n",
       "      <td>40</td>\n",
       "      <td>Item #41</td>\n",
       "      <td>1990</td>\n",
       "      <td>5288955934</td>\n",
       "    </tr>\n",
       "    <tr>\n",
       "      <th>41</th>\n",
       "      <td>41</td>\n",
       "      <td>Item #42</td>\n",
       "      <td>1991</td>\n",
       "      <td>5371585922</td>\n",
       "    </tr>\n",
       "    <tr>\n",
       "      <th>42</th>\n",
       "      <td>42</td>\n",
       "      <td>Item #43</td>\n",
       "      <td>1992</td>\n",
       "      <td>5456136278</td>\n",
       "    </tr>\n",
       "    <tr>\n",
       "      <th>43</th>\n",
       "      <td>43</td>\n",
       "      <td>Item #44</td>\n",
       "      <td>1993</td>\n",
       "      <td>5538268316</td>\n",
       "    </tr>\n",
       "    <tr>\n",
       "      <th>44</th>\n",
       "      <td>44</td>\n",
       "      <td>Item #45</td>\n",
       "      <td>1994</td>\n",
       "      <td>5618682132</td>\n",
       "    </tr>\n",
       "    <tr>\n",
       "      <th>45</th>\n",
       "      <td>45</td>\n",
       "      <td>Item #46</td>\n",
       "      <td>1995</td>\n",
       "      <td>5699202985</td>\n",
       "    </tr>\n",
       "    <tr>\n",
       "      <th>46</th>\n",
       "      <td>46</td>\n",
       "      <td>Item #47</td>\n",
       "      <td>1996</td>\n",
       "      <td>5779440593</td>\n",
       "    </tr>\n",
       "    <tr>\n",
       "      <th>47</th>\n",
       "      <td>47</td>\n",
       "      <td>Item #48</td>\n",
       "      <td>1997</td>\n",
       "      <td>5857972543</td>\n",
       "    </tr>\n",
       "    <tr>\n",
       "      <th>48</th>\n",
       "      <td>48</td>\n",
       "      <td>Item #49</td>\n",
       "      <td>1998</td>\n",
       "      <td>5935213248</td>\n",
       "    </tr>\n",
       "    <tr>\n",
       "      <th>49</th>\n",
       "      <td>49</td>\n",
       "      <td>Item #50</td>\n",
       "      <td>1999</td>\n",
       "      <td>6012074922</td>\n",
       "    </tr>\n",
       "    <tr>\n",
       "      <th>50</th>\n",
       "      <td>50</td>\n",
       "      <td>Item #51</td>\n",
       "      <td>2000</td>\n",
       "      <td>6088571383</td>\n",
       "    </tr>\n",
       "    <tr>\n",
       "      <th>51</th>\n",
       "      <td>51</td>\n",
       "      <td>Item #52</td>\n",
       "      <td>2001</td>\n",
       "      <td>6165219247</td>\n",
       "    </tr>\n",
       "    <tr>\n",
       "      <th>52</th>\n",
       "      <td>52</td>\n",
       "      <td>Item #53</td>\n",
       "      <td>2002</td>\n",
       "      <td>6242016348</td>\n",
       "    </tr>\n",
       "    <tr>\n",
       "      <th>53</th>\n",
       "      <td>53</td>\n",
       "      <td>Item #54</td>\n",
       "      <td>2003</td>\n",
       "      <td>6318590956</td>\n",
       "    </tr>\n",
       "    <tr>\n",
       "      <th>54</th>\n",
       "      <td>54</td>\n",
       "      <td>Item #55</td>\n",
       "      <td>2004</td>\n",
       "      <td>6395699509</td>\n",
       "    </tr>\n",
       "    <tr>\n",
       "      <th>55</th>\n",
       "      <td>55</td>\n",
       "      <td>Item #56</td>\n",
       "      <td>2005</td>\n",
       "      <td>6473044732</td>\n",
       "    </tr>\n",
       "    <tr>\n",
       "      <th>56</th>\n",
       "      <td>56</td>\n",
       "      <td>Item #57</td>\n",
       "      <td>2006</td>\n",
       "      <td>6551263534</td>\n",
       "    </tr>\n",
       "    <tr>\n",
       "      <th>57</th>\n",
       "      <td>57</td>\n",
       "      <td>Item #58</td>\n",
       "      <td>2007</td>\n",
       "      <td>6629913759</td>\n",
       "    </tr>\n",
       "    <tr>\n",
       "      <th>58</th>\n",
       "      <td>58</td>\n",
       "      <td>Item #59</td>\n",
       "      <td>2008</td>\n",
       "      <td>6709049780</td>\n",
       "    </tr>\n",
       "    <tr>\n",
       "      <th>59</th>\n",
       "      <td>59</td>\n",
       "      <td>Item #60</td>\n",
       "      <td>2009</td>\n",
       "      <td>6788214394</td>\n",
       "    </tr>\n",
       "    <tr>\n",
       "      <th>60</th>\n",
       "      <td>60</td>\n",
       "      <td>Item #61</td>\n",
       "      <td>2010</td>\n",
       "      <td>6866332358</td>\n",
       "    </tr>\n",
       "    <tr>\n",
       "      <th>61</th>\n",
       "      <td>61</td>\n",
       "      <td>Item #62</td>\n",
       "      <td>2011</td>\n",
       "      <td>6944055583</td>\n",
       "    </tr>\n",
       "    <tr>\n",
       "      <th>62</th>\n",
       "      <td>62</td>\n",
       "      <td>Item #63</td>\n",
       "      <td>2012</td>\n",
       "      <td>7022349283</td>\n",
       "    </tr>\n",
       "    <tr>\n",
       "      <th>63</th>\n",
       "      <td>63</td>\n",
       "      <td>Item #64</td>\n",
       "      <td>2013</td>\n",
       "      <td>7101027895</td>\n",
       "    </tr>\n",
       "    <tr>\n",
       "      <th>64</th>\n",
       "      <td>64</td>\n",
       "      <td>Item #65</td>\n",
       "      <td>2014</td>\n",
       "      <td>7178722893</td>\n",
       "    </tr>\n",
       "    <tr>\n",
       "      <th>65</th>\n",
       "      <td>65</td>\n",
       "      <td>Item #66</td>\n",
       "      <td>2015</td>\n",
       "      <td>7256490011</td>\n",
       "    </tr>\n",
       "  </tbody>\n",
       "</table>\n",
       "</div>"
      ],
      "text/plain": [
       "    Index  Position  Year  Population\n",
       "0       0   Item #1  1950  2557628654\n",
       "1       1   Item #2  1951  2594939877\n",
       "2       2   Item #3  1952  2636772306\n",
       "3       3   Item #4  1953  2682053389\n",
       "4       4   Item #5  1954  2730228104\n",
       "5       5   Item #6  1955  2782098943\n",
       "6       6   Item #7  1956  2835299673\n",
       "7       7   Item #8  1957  2891349717\n",
       "8       8   Item #9  1958  2948137248\n",
       "9       9  Item #10  1959  3000716593\n",
       "10     10  Item #11  1960  3043001508\n",
       "11     11  Item #12  1961  3083966929\n",
       "12     12  Item #13  1962  3140093217\n",
       "13     13  Item #14  1963  3209827882\n",
       "14     14  Item #15  1964  3281201306\n",
       "15     15  Item #16  1965  3350425793\n",
       "16     16  Item #17  1966  3420677923\n",
       "17     17  Item #18  1967  3490333715\n",
       "18     18  Item #19  1968  3562313822\n",
       "19     19  Item #20  1969  3637159050\n",
       "20     20  Item #21  1970  3712697742\n",
       "21     21  Item #22  1971  3790326948\n",
       "22     22  Item #23  1972  3866568653\n",
       "23     23  Item #24  1973  3942096442\n",
       "24     24  Item #25  1974  4016608813\n",
       "25     25  Item #26  1975  4089083233\n",
       "26     26  Item #27  1976  4160185010\n",
       "27     27  Item #28  1977  4232084578\n",
       "28     28  Item #29  1978  4304105753\n",
       "29     29  Item #30  1979  4379013942\n",
       "30     30  Item #31  1980  4451362735\n",
       "31     31  Item #32  1981  4534410125\n",
       "32     32  Item #33  1982  4614566561\n",
       "33     33  Item #34  1983  4695736743\n",
       "34     34  Item #35  1984  4774569391\n",
       "35     35  Item #36  1985  4856462699\n",
       "36     36  Item #37  1986  4940571232\n",
       "37     37  Item #38  1987  5027200492\n",
       "38     38  Item #39  1988  5114557167\n",
       "39     39  Item #40  1989  5201440110\n",
       "40     40  Item #41  1990  5288955934\n",
       "41     41  Item #42  1991  5371585922\n",
       "42     42  Item #43  1992  5456136278\n",
       "43     43  Item #44  1993  5538268316\n",
       "44     44  Item #45  1994  5618682132\n",
       "45     45  Item #46  1995  5699202985\n",
       "46     46  Item #47  1996  5779440593\n",
       "47     47  Item #48  1997  5857972543\n",
       "48     48  Item #49  1998  5935213248\n",
       "49     49  Item #50  1999  6012074922\n",
       "50     50  Item #51  2000  6088571383\n",
       "51     51  Item #52  2001  6165219247\n",
       "52     52  Item #53  2002  6242016348\n",
       "53     53  Item #54  2003  6318590956\n",
       "54     54  Item #55  2004  6395699509\n",
       "55     55  Item #56  2005  6473044732\n",
       "56     56  Item #57  2006  6551263534\n",
       "57     57  Item #58  2007  6629913759\n",
       "58     58  Item #59  2008  6709049780\n",
       "59     59  Item #60  2009  6788214394\n",
       "60     60  Item #61  2010  6866332358\n",
       "61     61  Item #62  2011  6944055583\n",
       "62     62  Item #63  2012  7022349283\n",
       "63     63  Item #64  2013  7101027895\n",
       "64     64  Item #65  2014  7178722893\n",
       "65     65  Item #66  2015  7256490011"
      ]
     },
     "execution_count": 23,
     "metadata": {},
     "output_type": "execute_result"
    }
   ],
   "source": [
    "pd.set_option(\"display.max_rows\", None, \"display.max_columns\", None)\n",
    "population_table"
   ]
  },
  {
   "cell_type": "markdown",
   "metadata": {},
   "source": [
    "# **Question 7.** \n",
    "\n",
    "What's the index of the 31st item in `population`?  Try to answer the question without looking at the table or the data!"
   ]
  },
  {
   "cell_type": "code",
   "execution_count": 24,
   "metadata": {},
   "outputs": [],
   "source": [
    "index_of_31st_item = 29"
   ]
  },
  {
   "cell_type": "markdown",
   "metadata": {},
   "source": [
    "## 5. Doing something to every element of an array\n",
    "Arrays are primarily useful for doing the same operation many times, so we don't often have to use `[]` and work with single elements.\n",
    "\n",
    "##### Logarithms\n",
    "Here is one simple question we might ask about world population:\n",
    "\n",
    "> How big was the population in *orders of magnitude* in each year?\n",
    "\n",
    "The logarithm function is one way of measuring how big a number is. The logarithm (base 10) of a number increases by 1 every time we multiply the number by 10. It's like a measure of how many decimal digits the number has, or how big it is in orders of magnitude.\n",
    "\n",
    "We could try to answer our question like this, using the `log10` function from the `math` module and the `[]` notation that you just learned:"
   ]
  },
  {
   "cell_type": "code",
   "execution_count": null,
   "metadata": {},
   "outputs": [],
   "source": [
    "import math\n",
    "population_1950_magnitude = math.log10(population[0])\n",
    "population_1951_magnitude = math.log10(population[1])\n",
    "population_1952_magnitude = math.log10(population[2])\n",
    "population_1953_magnitude = math.log10(population[3])\n",
    "#etcetera"
   ]
  },
  {
   "cell_type": "markdown",
   "metadata": {},
   "source": [
    "But this is tedious and doesn't really take advantage of the fact that we are using a computer.\n",
    "\n",
    "Instead, NumPy provides its own version of `log10` that takes the logarithm of each element of an array.  It takes a single array of numbers as its argument.  It returns an array of the same length, where the first element of the result is the logarithm of the first element of the argument, and so on."
   ]
  },
  {
   "cell_type": "markdown",
   "metadata": {},
   "source": [
    "# **Question 8.** \n",
    "Use the log10 function of `numpy` to compute the logarithms of the world population in every year.  Give the result (an array of 66 numbers) the name `population_magnitudes`.  Your code should be very short."
   ]
  },
  {
   "cell_type": "code",
   "execution_count": 25,
   "metadata": {
    "collapsed": false,
    "jupyter": {
     "outputs_hidden": false
    }
   },
   "outputs": [
    {
     "data": {
      "text/plain": [
       "array([9.40783749, 9.4141273 , 9.42107263, 9.42846742, 9.43619893,\n",
       "       9.44437257, 9.45259897, 9.46110062, 9.4695477 , 9.47722498,\n",
       "       9.48330217, 9.48910971, 9.49694254, 9.50648175, 9.51603288,\n",
       "       9.5251    , 9.53411218, 9.54286695, 9.55173218, 9.56076229,\n",
       "       9.56968959, 9.57867667, 9.58732573, 9.59572724, 9.60385954,\n",
       "       9.61162595, 9.61911264, 9.62655434, 9.63388293, 9.64137633,\n",
       "       9.64849299, 9.6565208 , 9.66413091, 9.67170374, 9.67893421,\n",
       "       9.68632006, 9.69377717, 9.70132621, 9.70880804, 9.7161236 ,\n",
       "       9.72336995, 9.73010253, 9.73688521, 9.74337399, 9.74963446,\n",
       "       9.75581413, 9.7618858 , 9.76774733, 9.77343633, 9.77902438,\n",
       "       9.7845154 , 9.78994853, 9.7953249 , 9.80062024, 9.80588805,\n",
       "       9.81110861, 9.81632507, 9.82150788, 9.82666101, 9.83175555,\n",
       "       9.83672482, 9.84161319, 9.84648243, 9.85132122, 9.85604719,\n",
       "       9.8607266 ])"
      ]
     },
     "execution_count": 25,
     "metadata": {},
     "output_type": "execute_result"
    }
   ],
   "source": [
    "import numpy as np\n",
    "population_magnitudes = np.log10(population)\n",
    "population_magnitudes"
   ]
  },
  {
   "cell_type": "markdown",
   "metadata": {},
   "source": [
    "<img src=\"array_logarithm.jpg\">\n",
    "\n",
    "This is called *elementwise* application of the function, since it operates separately on each element of the array it's called on.  The textbook's section on arrays has a useful list of NumPy functions that are designed to work elementwise, like `np.log10`.\n",
    "\n",
    "##  5.1 Arithmetic\n",
    "Arithmetic also works elementwise on arrays.  For example, you can divide all the population numbers by 1 billion to get numbers in billions:"
   ]
  },
  {
   "cell_type": "code",
   "execution_count": 27,
   "metadata": {},
   "outputs": [
    {
     "data": {
      "text/plain": [
       "array([2.55762865, 2.59493988, 2.63677231, 2.68205339, 2.7302281 ,\n",
       "       2.78209894, 2.83529967, 2.89134972, 2.94813725, 3.00071659,\n",
       "       3.04300151, 3.08396693, 3.14009322, 3.20982788, 3.28120131,\n",
       "       3.35042579, 3.42067792, 3.49033371, 3.56231382, 3.63715905,\n",
       "       3.71269774, 3.79032695, 3.86656865, 3.94209644, 4.01660881,\n",
       "       4.08908323, 4.16018501, 4.23208458, 4.30410575, 4.37901394,\n",
       "       4.45136274, 4.53441012, 4.61456656, 4.69573674, 4.77456939,\n",
       "       4.8564627 , 4.94057123, 5.02720049, 5.11455717, 5.20144011,\n",
       "       5.28895593, 5.37158592, 5.45613628, 5.53826832, 5.61868213,\n",
       "       5.69920299, 5.77944059, 5.85797254, 5.93521325, 6.01207492,\n",
       "       6.08857138, 6.16521925, 6.24201635, 6.31859096, 6.39569951,\n",
       "       6.47304473, 6.55126353, 6.62991376, 6.70904978, 6.78821439,\n",
       "       6.86633236, 6.94405558, 7.02234928, 7.10102789, 7.17872289,\n",
       "       7.25649001])"
      ]
     },
     "execution_count": 27,
     "metadata": {},
     "output_type": "execute_result"
    }
   ],
   "source": [
    "population_in_billions = population / 1000000000\n",
    "population_in_billions"
   ]
  },
  {
   "cell_type": "markdown",
   "metadata": {},
   "source": [
    "You can do the same with addition, subtraction, multiplication, and exponentiation (`**`). For example, you can calculate a tip on several restaurant bills at once (in this case just 3):"
   ]
  },
  {
   "cell_type": "code",
   "execution_count": 28,
   "metadata": {
    "collapsed": false,
    "jupyter": {
     "outputs_hidden": false
    }
   },
   "outputs": [
    {
     "name": "stdout",
     "output_type": "stream",
     "text": [
      "Restaurant bills:\t [20.12 39.9  31.01]\n",
      "Tips:\t\t\t [4.024 7.98  6.202]\n"
     ]
    }
   ],
   "source": [
    "restaurant_bills = pd.read_csv(\"restaurant_bills.csv\")[\"Bill\"].to_numpy()\n",
    "print(\"Restaurant bills:\\t\", restaurant_bills)\n",
    "tips = .2 * restaurant_bills\n",
    "print(\"Tips:\\t\\t\\t\", tips)"
   ]
  },
  {
   "cell_type": "markdown",
   "metadata": {},
   "source": [
    "<img src=\"array_multiplication.jpg\">"
   ]
  },
  {
   "cell_type": "markdown",
   "metadata": {},
   "source": [
    "# **Question 9.** \n",
    "\n",
    "Suppose the total charge at a restaurant is the original bill plus the tip.  That means we can multiply the original bill by 1.2 to get the total charge.  Compute the total charge for each bill in `restaurant_bills`."
   ]
  },
  {
   "cell_type": "code",
   "execution_count": 29,
   "metadata": {},
   "outputs": [
    {
     "data": {
      "text/plain": [
       "array([24.144, 47.88 , 37.212])"
      ]
     },
     "execution_count": 29,
     "metadata": {},
     "output_type": "execute_result"
    }
   ],
   "source": [
    "total_charges = restaurant_bills * 1.2\n",
    "total_charges"
   ]
  },
  {
   "cell_type": "code",
   "execution_count": 30,
   "metadata": {
    "collapsed": false,
    "jupyter": {
     "outputs_hidden": false
    }
   },
   "outputs": [
    {
     "ename": "NameError",
     "evalue": "name 'tests' is not defined",
     "output_type": "error",
     "traceback": [
      "\u001b[1;31m---------------------------------------------------------------------------\u001b[0m",
      "\u001b[1;31mNameError\u001b[0m                                 Traceback (most recent call last)",
      "\u001b[1;32m<ipython-input-30-a972cb3ef88b>\u001b[0m in \u001b[0;36m<module>\u001b[1;34m\u001b[0m\n\u001b[1;32m----> 1\u001b[1;33m \u001b[0m_\u001b[0m \u001b[1;33m=\u001b[0m \u001b[0mtests\u001b[0m\u001b[1;33m.\u001b[0m\u001b[0mgrade\u001b[0m\u001b[1;33m(\u001b[0m\u001b[1;34m'q432'\u001b[0m\u001b[1;33m)\u001b[0m\u001b[1;33m\u001b[0m\u001b[1;33m\u001b[0m\u001b[0m\n\u001b[0m",
      "\u001b[1;31mNameError\u001b[0m: name 'tests' is not defined"
     ]
    }
   ],
   "source": [
    "_ = tests.grade('q432')"
   ]
  },
  {
   "cell_type": "markdown",
   "metadata": {},
   "source": [
    "# **Question 10.**  \n",
    "\n",
    "`more_restaurant_bills.csv` contains 100,000 bills!  Compute the total charge for each one.  How is your code different?"
   ]
  },
  {
   "cell_type": "code",
   "execution_count": 32,
   "metadata": {},
   "outputs": [
    {
     "data": {
      "text/plain": [
       "array([20.244, 20.892, 12.216, ..., 19.308, 18.336, 35.664])"
      ]
     },
     "execution_count": 32,
     "metadata": {},
     "output_type": "execute_result"
    }
   ],
   "source": [
    "#In this line, we generate an array with the Bill column information.\n",
    "more_restaurant_bills = pd.read_csv(\"more_restaurant_bills.csv\")[\"Bill\"].to_numpy()\n",
    "\n",
    "#Update the following code for this question.\n",
    "more_total_charges = more_restaurant_bills * 1.2\n",
    "more_total_charges"
   ]
  },
  {
   "cell_type": "markdown",
   "metadata": {},
   "source": [
    "The function `sum` takes a single array of numbers as its argument.  It returns the sum of all the numbers in that array (so it returns a single number, not an array)."
   ]
  },
  {
   "cell_type": "markdown",
   "metadata": {},
   "source": [
    "# **Question 11.** \n",
    "\n",
    "What was the sum of all the bills in `more_restaurant_bills`, *including tips*?"
   ]
  },
  {
   "cell_type": "code",
   "execution_count": 33,
   "metadata": {
    "collapsed": false,
    "jupyter": {
     "outputs_hidden": false
    }
   },
   "outputs": [
    {
     "data": {
      "text/plain": [
       "1795730.0640000193"
      ]
     },
     "execution_count": 33,
     "metadata": {},
     "output_type": "execute_result"
    }
   ],
   "source": [
    "sum_of_bills = sum(more_total_charges)\n",
    "sum_of_bills"
   ]
  },
  {
   "cell_type": "markdown",
   "metadata": {},
   "source": [
    "# **Question 12.** \n",
    "\n",
    "The powers of 2 ($2^0 = 1$, $2^1 = 2$, $2^2 = 4$, etc) arise frequently in computer science.  (For example, you may have noticed that storage on cell phones comes in powers of 2, like 16 GB, 32 GB, or 64 GB.)  Use `np.arange` and the exponentiation operator `**` to compute the first 30 powers of 2, starting from `2^0`."
   ]
  },
  {
   "cell_type": "code",
   "execution_count": null,
   "metadata": {},
   "outputs": [],
   "source": [
    "import numpy as np\n",
    "powers_of_2 = np.arange(2 ** 0, 2 ** 31)\n",
    "powers_of_2"
   ]
  },
  {
   "cell_type": "code",
   "execution_count": null,
   "metadata": {},
   "outputs": [],
   "source": []
  },
  {
   "cell_type": "code",
   "execution_count": null,
   "metadata": {},
   "outputs": [],
   "source": []
  }
 ],
 "metadata": {
  "kernelspec": {
   "display_name": "Python 3",
   "language": "python",
   "name": "python3"
  },
  "language_info": {
   "codemirror_mode": {
    "name": "ipython",
    "version": 3
   },
   "file_extension": ".py",
   "mimetype": "text/x-python",
   "name": "python",
   "nbconvert_exporter": "python",
   "pygments_lexer": "ipython3",
   "version": "3.8.5"
  }
 },
 "nbformat": 4,
 "nbformat_minor": 4
}
