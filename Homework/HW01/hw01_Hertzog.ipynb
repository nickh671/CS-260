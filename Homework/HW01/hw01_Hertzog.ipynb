{
 "cells": [
  {
   "cell_type": "markdown",
   "metadata": {},
   "source": [
    "Your Name: Nick Hertzog"
   ]
  },
  {
   "cell_type": "markdown",
   "metadata": {},
   "source": [
    "# Homework 1: Causality and Expressions\n",
    "\n",
    "Directly sharing answers is not okay, but discussing problems with the professor or with other students is encouraged.  \n",
    "\n",
    "Related Reading:\n",
    "- Textbook chapters [1](http://www.inferentialthinking.com/chapters/01/what-is-data-science.html), [2](http://www.inferentialthinking.com/chapters/02/causality-and-experiments.html), and [3](http://www.inferentialthinking.com/chapters/03/programming-in-python.html)"
   ]
  },
  {
   "cell_type": "markdown",
   "metadata": {},
   "source": [
    "## 1. Confounding Variables\n",
    "\n",
    "In class, we dicussed confounding variables.  To really argue that a variable C could be a possible confounder in a study with variables A and B, we need to do 3 things.\n",
    "\n",
    "* Argue that A and C are related.  \n",
    "* Argue that B and C are related.\n",
    "* Check Consistency:  When making the above arguments, **we must not accidentally argue the opposite effect** of whatever was observed in the study.  For example, recall the study relating chocolate consumption (A) and heart disease (B).  If we were trying to argue that exercise (C) is the confounder here, then we need to do so in a way that explains why those who eat chocolate are **less likely** to have heart disease, instead of accidentally arguing that those who eat chocolate are **more likely** to have heart disease.   \n",
    "\n",
    "To give you practice, here's an actual example that I love because it's so counterintuitive.   One study found that the mothers in their study who bottle-fed their children actually had healthier babies than those who breast-fed.  This is unexpected because many claim that breast milk is so good for a baby.  The researchers decided that the confounding variable here was....wait for it...the mothers' education level.  I bet that wasn't the first thing that came to your mind!  Here's one possible way to argue that a mother's education level (C) is a possible confounder relatiing a women's chosen type of feeding (A) and the health of her baby (B).  There are other ways as well.  FYI: You may disagree with these statements and that's fine.  That's not the point.  The point is:  Can you provide a reasonable possible explanation for why the study saw what it saw?\n",
    "\n",
    "* A and C are related:  Women with higher education levels tend to have careers with long working hours.  Hence, they have to pump at work and are forced to rely on bottles.  Thus, women with higher education levels are more likely to bottle-feed.\n",
    "* B and C are related:  Women with higher education levels are likely to be in a better financial situation.  Thus, they have access to better healthcare options.  Therefore, they see a doctor more often during their pregnancies and so their babies tend to be healthier.\n",
    "* Check Consistency: We have argued that women with higher education levels are both more likely to bottle-feed and to have healthier babes.  Hence, the above arguments give a plausible explanation for why the researchers observed that women who bottle-feed are more likely to have healthier babies. (So the arguments do not accidentally argue **less likely**.)\n",
    "\n",
    "Your turn!"
   ]
  },
  {
   "cell_type": "markdown",
   "metadata": {},
   "source": [
    "**Question 1.** Check out the 6th chart on the webpage below.  This shows that there is a correlation between \"Total Revenue Generated from Arcades\" (A) and \"Computer Science Doctorates Awarded in the US\" (B).   Feel free to check out some of the other fun correlations on this site too!\n",
    "\n",
    "[Click here for the Spurious Correlations Website](https://www.tylervigen.com/spurious-correlations)\n",
    "\n",
    "It would be wrong to assume causality here, ie, to report either of the following.\n",
    "* Spending time at arcades makes you better at computer science and thus more likely to get a CS Doctorate.\n",
    "* Getting a CS Doctorate stresses you out and makes you want to spend all your time destressing in an arcade.\n",
    "\n",
    "Directions: Suggest a confounding variable (C) and explain why it is a possible confounder in this scenario."
   ]
  },
  {
   "cell_type": "markdown",
   "metadata": {},
   "source": [
    "*Write your answer here, filling in the missing parts below.*\n",
    "\n",
    "A possible confunding variable C is time\n",
    "* A and C are related: Econominic conditions will affect CS doctorates because if the economy is better, more poeple will have the money to invest into furthering their education\n",
    "* B and C are related: Economic conditions will affect arcade revenue because if the economy is better, more people will be willing to go spend their time and money at the arcade.\n",
    "* My argument is consistent with the results shown in the chart: By arguing the economic conditions play a role into the results, we can see that more CS doctorates are granted students and more people overall go to arcades and generate more revenue"
   ]
  },
  {
   "cell_type": "markdown",
   "metadata": {},
   "source": [
    "## 2. Thinking Hard About Arithmetic\n"
   ]
  },
  {
   "cell_type": "markdown",
   "metadata": {},
   "source": [
    "The FBI reported that over 25% of residential burglaries occur between the 2 holidays that bookend summer:  Memorial Day and Labor Day.  A major security company reports this statistic in the their advertising. So their pamphlets claim, \"Robbers go to work when you go on vacation.\"\n",
    "\n",
    "Does the FBI data actually support that break-ins are more likely during summer than at other times of the year?"
   ]
  },
  {
   "cell_type": "markdown",
   "metadata": {},
   "source": [
    "This data does not support that break-ins are more likely during summer than other times of the year. For example, 25% happen between these two dates but what if the 60% of break-ins happen between Christmas and New Years?"
   ]
  },
  {
   "cell_type": "markdown",
   "metadata": {},
   "source": [
    "## 3. Breaking Down Expressions\n"
   ]
  },
  {
   "cell_type": "markdown",
   "metadata": {},
   "source": [
    "The most important idea in Computer Science is that complicated, useful things can be built by putting together simple parts according to simple rules.  Python code is an important example of this principle.  Once you understand the basic rules, you can code with confidence.  These exercises are designed to give you some practice with those rules.\n",
    "\n",
    "First, a brief review of subexpressions.\n",
    "\n",
    "You can take any Python expression that has a value and combine it with other expressions.  For example, you can combine two number-valued expressions by putting a `+` between them to add their values together.  This forms a new, larger expression called a *compound expression*.  The expressions that were combined together are called *subexpressions*.\n",
    "\n",
    "You can tell if something is a subexpression by checking whether it would make sense to write it in a line by itself.  For example, in the expression `2 * 3`, `2` is a subexpression, but `2 *` isn't, because `2 *` isn't a valid expression.  (Try executing it!)"
   ]
  },
  {
   "cell_type": "markdown",
   "metadata": {},
   "source": [
    "**Question 1.** List all the subexpressions of the following expression:\n",
    "\n",
    "    2 + 3\n",
    "    \n",
    "Put each subexpression on its own line in the next cell.\n",
    "\n",
    "*Hint:* There are two of them."
   ]
  },
  {
   "cell_type": "code",
   "execution_count": 1,
   "metadata": {},
   "outputs": [
    {
     "data": {
      "text/plain": [
       "3"
      ]
     },
     "execution_count": 1,
     "metadata": {},
     "output_type": "execute_result"
    }
   ],
   "source": [
    "2\n",
    "3"
   ]
  },
  {
   "cell_type": "markdown",
   "metadata": {},
   "source": [
    "**Question 2.** Consider the following expression:\n",
    "\n",
    "    (1 + 2) * ((3 / 4) ** 5)\n",
    "\n",
    "Here is a list of almost all the subexpressions of that expression.  One is missing.\n",
    "\n",
    "1. `1`\n",
    "2. `2`\n",
    "3. `3`\n",
    "4. `4`\n",
    "5. `5`\n",
    "6. `(1 + 2)`\n",
    "7. `((3 / 4) ** 5)`\n",
    "\n",
    "In the next cell, write the missing expression."
   ]
  },
  {
   "cell_type": "code",
   "execution_count": 2,
   "metadata": {
    "collapsed": false,
    "jupyter": {
     "outputs_hidden": false
    }
   },
   "outputs": [
    {
     "data": {
      "text/plain": [
       "0.75"
      ]
     },
     "execution_count": 2,
     "metadata": {},
     "output_type": "execute_result"
    }
   ],
   "source": [
    "(3 / 4)"
   ]
  },
  {
   "cell_type": "markdown",
   "metadata": {},
   "source": [
    "**Question 3.** List all the subexpressions of the following expression:\n",
    "\n",
    "    (((2**3) / 4) / 5) - 6\n",
    "\n",
    "Put each subexpression on its own line in the next cell."
   ]
  },
  {
   "cell_type": "code",
   "execution_count": 3,
   "metadata": {},
   "outputs": [
    {
     "data": {
      "text/plain": [
       "0.4"
      ]
     },
     "execution_count": 3,
     "metadata": {},
     "output_type": "execute_result"
    }
   ],
   "source": [
    "2\n",
    "3\n",
    "4\n",
    "5\n",
    "6\n",
    "(2 ** 3)\n",
    "((2 ** 3) / 4)\n",
    "((( 2 ** 3) / 4) / 5)"
   ]
  },
  {
   "cell_type": "markdown",
   "metadata": {},
   "source": [
    "## 4. Errors in Naming\n"
   ]
  },
  {
   "cell_type": "markdown",
   "metadata": {},
   "source": [
    "**Question 1.** When you run the following cell, Python will produce an slightly-cryptic error message.  Explain in the text cell below, in your own words, what's wrong with the code.  (Remember, double-click the cell to edit it, and then click the Run button when you're done.)"
   ]
  },
  {
   "cell_type": "code",
   "execution_count": null,
   "metadata": {
    "collapsed": false,
    "jupyter": {
     "outputs_hidden": false
    }
   },
   "outputs": [],
   "source": [
    "4 = 2 + 2"
   ]
  },
  {
   "cell_type": "markdown",
   "metadata": {},
   "source": [
    "This code is trying to set the integer value of 4 equal to 2 + 2. Mathematically this makes sense, however, in python you would need to create a variable to hold the value of 2 + 2."
   ]
  },
  {
   "cell_type": "markdown",
   "metadata": {},
   "source": [
    "**Question 2.** When you run the following cell, Python will produce an slightly-cryptic error message.  **Fix the error,** and then **explain below** in your own words what was wrong with the code."
   ]
  },
  {
   "cell_type": "code",
   "execution_count": 6,
   "metadata": {
    "collapsed": false,
    "jupyter": {
     "outputs_hidden": false
    }
   },
   "outputs": [],
   "source": [
    "two = 2\n",
    "four = two + two"
   ]
  },
  {
   "cell_type": "markdown",
   "metadata": {},
   "source": [
    "The user is saving the value of 2 to the variable named two. Originally they were writing two plus two as if they were speaking. They need to replace the word plus with the math symbol + in order for python to understand the instructions."
   ]
  },
  {
   "cell_type": "markdown",
   "metadata": {},
   "source": [
    "## 5. Job Opportunity Education in Rural India\n"
   ]
  },
  {
   "cell_type": "markdown",
   "metadata": {},
   "source": [
    "A [study](http://www.nber.org/papers/w16021.pdf) at UCLA investigated factors that might result in greater attention to the health and education of girls in rural India. One such factor is information about job opportunities for women. The idea is that if people know that educated women can get good jobs, they might take more care of the health and education of girls in their families, as an investment in the girls’ future potential as earners.\n",
    "\n",
    "The study focused on 160 villages outside the capital of India, all with little access to information about call centers and similar organizations that offer job opportunities to women. In 80 of the villages chosen at random, recruiters visited the village, described the opportunities, recruited women who had some English language proficiency and experience with computers, and provided ongoing support free of charge for three years. In the other 80 villages, no recruiters visited and no other intervention was made.\n",
    "\n",
    "At the end of the study period, the researchers recorded data about the school attendance and health of the children in the villages."
   ]
  },
  {
   "cell_type": "markdown",
   "metadata": {},
   "source": [
    "**Question 1.** Is there a treatment in this study, and if so, what is it?  Also, did this analysis have a treatment group and a control group? If so, describe the two groups."
   ]
  },
  {
   "cell_type": "markdown",
   "metadata": {},
   "source": [
    "I that there is a treatment in this study and it would be the selection of only women who had some english proficieny and experience with computers. I think to not have a treatment they would have needed to select all women from the 80 villages instead? I think the treatment group was the group of 80 where the recruiters visitedd and the control group was the group where no recruiters visited."
   ]
  },
  {
   "cell_type": "markdown",
   "metadata": {},
   "source": [
    "**Question 2.** Was this an observational study or a randomized controlled experiment?"
   ]
  },
  {
   "cell_type": "markdown",
   "metadata": {},
   "source": [
    "A randomized controlled experiment"
   ]
  },
  {
   "cell_type": "markdown",
   "metadata": {},
   "source": [
    "**Question 3.** The study reported, “Girls aged 5-15 in villages that received the recruiting services were 3 to 5 percentage points more likely to be in school and experienced an increase in Body Mass Index, reflecting greater nutrition and/or medical care. However, there was no net gain in height. For boys, there was no change in any of these measures.” Why do you think the author points out the lack of change in the boys?"
   ]
  },
  {
   "cell_type": "markdown",
   "metadata": {},
   "source": [
    "Maybe to show that by helping the women in the villages, it had no negative impact on the men. Meaning that these resources that were allocated to the girls aged 5-15 already existed before in plenty so there was nothing being taken away from the boys to give to the girls."
   ]
  },
  {
   "cell_type": "markdown",
   "metadata": {},
   "source": [
    "**Question 4.** Is this study designed in a way that allows us to conclude cause-and-effect relationship between 2 variables?  Explain.  In your answer, be sure to indicate what those variables would be in this scenario."
   ]
  },
  {
   "cell_type": "markdown",
   "metadata": {},
   "source": [
    "I think that that this was designed to conclude a cause and effect relationship. The two variables would be if giving women in rural india better health care and education, would that increase their likelihood of being in school and overall health."
   ]
  },
  {
   "cell_type": "markdown",
   "metadata": {},
   "source": [
    "## 6. Differences between Universities\n"
   ]
  },
  {
   "cell_type": "markdown",
   "metadata": {},
   "source": [
    "**Question 1.** Suppose you're choosing a university to attend, and you'd like to *quantify* how *dissimilar* any two universities are.  You rate each university you're considering on 3 traits, using a 0 to 10 scale for each trait:\n",
    "\n",
    "1. Cost to attend (0 for the cheapest)\n",
    "2. Graduation rate\n",
    "3. How cool its mascot is\n",
    "\n",
    "You decide that the dissimilarity between two universities is:\n",
    "\n",
    "* the maximum of\n",
    "* the absolute values of\n",
    "* the 3 differences in their trait values.\n",
    "\n",
    "Using this method, compute the dissimilarity between Moravian (whose traits are 8, 9, and 2, respectively) and DeSales (whose traits are 7, 9, and 10, respectively).  Call your answer `dissimilarity`.  Use a single line of code to compute the answer.  Use Python to do all the steps, including arithmetic (like subtracting 8 from 7)."
   ]
  },
  {
   "cell_type": "code",
   "execution_count": 7,
   "metadata": {
    "collapsed": false,
    "jupyter": {
     "outputs_hidden": false
    }
   },
   "outputs": [
    {
     "data": {
      "text/plain": [
       "9"
      ]
     },
     "execution_count": 7,
     "metadata": {},
     "output_type": "execute_result"
    }
   ],
   "source": [
    "dissimilarity = abs(8-7) + abs(9-9) + abs(2-10)\n",
    "dissimilarity"
   ]
  },
  {
   "cell_type": "markdown",
   "metadata": {},
   "source": [
    "**Question 2.** Identify all the subexpressions in your answer to the previous question.  Write each on its own line.\n",
    "\n",
    "*Hint:* If your answer to the previous question was as straightforward as possible, there should be 12 subexpressions, not including the whole expression itself."
   ]
  },
  {
   "cell_type": "code",
   "execution_count": 8,
   "metadata": {},
   "outputs": [
    {
     "data": {
      "text/plain": [
       "9"
      ]
     },
     "execution_count": 8,
     "metadata": {},
     "output_type": "execute_result"
    }
   ],
   "source": [
    "2\n",
    "7\n",
    "8\n",
    "9\n",
    "10\n",
    "abs(8-7)\n",
    "abs(9-9)\n",
    "abs(2-10)\n",
    "(abs(8-7) + abs(9-9))\n",
    "(abs(9-9) + abs(2-10))\n",
    "(abs(8-7) + abs(2-10))\n",
    "#not sure what the last subexpression would be"
   ]
  },
  {
   "cell_type": "code",
   "execution_count": null,
   "metadata": {},
   "outputs": [],
   "source": []
  }
 ],
 "metadata": {
  "kernelspec": {
   "display_name": "Python 3",
   "language": "python",
   "name": "python3"
  },
  "language_info": {
   "codemirror_mode": {
    "name": "ipython",
    "version": 3
   },
   "file_extension": ".py",
   "mimetype": "text/x-python",
   "name": "python",
   "nbconvert_exporter": "python",
   "pygments_lexer": "ipython3",
   "version": "3.8.5"
  }
 },
 "nbformat": 4,
 "nbformat_minor": 4
}
